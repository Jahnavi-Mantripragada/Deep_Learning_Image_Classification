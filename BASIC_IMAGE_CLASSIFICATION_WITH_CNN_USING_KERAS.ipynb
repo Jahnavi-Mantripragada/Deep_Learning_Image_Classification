{
  "nbformat": 4,
  "nbformat_minor": 0,
  "metadata": {
    "kernelspec": {
      "display_name": "Python 3",
      "language": "python",
      "name": "python3"
    },
    "language_info": {
      "codemirror_mode": {
        "name": "ipython",
        "version": 3
      },
      "file_extension": ".py",
      "mimetype": "text/x-python",
      "name": "python",
      "nbconvert_exporter": "python",
      "pygments_lexer": "ipython3",
      "version": "3.7.6"
    },
    "colab": {
      "name": "BASIC IMAGE CLASSIFICATION WITH CNN USING KERAS.ipynb",
      "provenance": [],
      "include_colab_link": true
    },
    "accelerator": "GPU"
  },
  "cells": [
    {
      "cell_type": "markdown",
      "metadata": {
        "id": "view-in-github",
        "colab_type": "text"
      },
      "source": [
        "<a href=\"https://colab.research.google.com/github/Jahnavi-Mantripragada/Deep_Learning_Image_Classification/blob/master/BASIC_IMAGE_CLASSIFICATION_WITH_CNN_USING_KERAS.ipynb\" target=\"_parent\"><img src=\"https://colab.research.google.com/assets/colab-badge.svg\" alt=\"Open In Colab\"/></a>"
      ]
    },
    {
      "cell_type": "code",
      "metadata": {
        "id": "vymAcUh9nUmP",
        "colab_type": "code",
        "colab": {
          "base_uri": "https://localhost:8080/",
          "height": 35
        },
        "outputId": "b2914d24-ce99-45ad-ffd9-6e279b396fe8"
      },
      "source": [
        "from google.colab import drive\n",
        "drive.mount('/content/drive')"
      ],
      "execution_count": 1,
      "outputs": [
        {
          "output_type": "stream",
          "text": [
            "Drive already mounted at /content/drive; to attempt to forcibly remount, call drive.mount(\"/content/drive\", force_remount=True).\n"
          ],
          "name": "stdout"
        }
      ]
    },
    {
      "cell_type": "code",
      "metadata": {
        "id": "qj51KZ8Onb1Q",
        "colab_type": "code",
        "colab": {}
      },
      "source": [
        "import tensorflow as tf"
      ],
      "execution_count": 2,
      "outputs": []
    },
    {
      "cell_type": "code",
      "metadata": {
        "id": "6rp1SsV3nUmU",
        "colab_type": "code",
        "colab": {}
      },
      "source": [
        "import os"
      ],
      "execution_count": 3,
      "outputs": []
    },
    {
      "cell_type": "code",
      "metadata": {
        "id": "qSrqzAxtnUmX",
        "colab_type": "code",
        "colab": {}
      },
      "source": [
        "import numpy as np"
      ],
      "execution_count": 4,
      "outputs": []
    },
    {
      "cell_type": "code",
      "metadata": {
        "id": "twfwjwd9nUma",
        "colab_type": "code",
        "colab": {}
      },
      "source": [
        "from matplotlib import pyplot as plt\n",
        "%matplotlib inline"
      ],
      "execution_count": 5,
      "outputs": []
    },
    {
      "cell_type": "code",
      "metadata": {
        "id": "e8Rit2RPnUmc",
        "colab_type": "code",
        "colab": {}
      },
      "source": [
        "if not os.path.isdir(\"/content/drive/My Drive/Image Classification with CNNs using Keras/Models\"):\n",
        "    os.mkdir('/content/drive/My Drive/Image Classification with CNNs using Keras/Models')"
      ],
      "execution_count": 6,
      "outputs": []
    },
    {
      "cell_type": "code",
      "metadata": {
        "id": "0vVkS4y7nUmf",
        "colab_type": "code",
        "colab": {
          "base_uri": "https://localhost:8080/",
          "height": 36
        },
        "outputId": "5db314a3-0b6b-4380-b4b6-4ca888677ed3"
      },
      "source": [
        "tf.__version__"
      ],
      "execution_count": 7,
      "outputs": [
        {
          "output_type": "execute_result",
          "data": {
            "application/vnd.google.colaboratory.intrinsic+json": {
              "type": "string"
            },
            "text/plain": [
              "'2.2.0'"
            ]
          },
          "metadata": {
            "tags": []
          },
          "execution_count": 7
        }
      ]
    },
    {
      "cell_type": "code",
      "metadata": {
        "id": "Y3M7_Uy6nUmj",
        "colab_type": "code",
        "colab": {}
      },
      "source": [
        "from tensorflow import keras"
      ],
      "execution_count": 8,
      "outputs": []
    },
    {
      "cell_type": "markdown",
      "metadata": {
        "id": "zUHHZ91_nUmn",
        "colab_type": "text"
      },
      "source": [
        "### We will use CIFAR10 Dataset: \n",
        "https://keras.io/api/datasets/cifar10/\n",
        "\n",
        "https://www.cs.toronto.edu/~kriz/cifar.html"
      ]
    },
    {
      "cell_type": "code",
      "metadata": {
        "id": "TE_02gYTnUmo",
        "colab_type": "code",
        "colab": {}
      },
      "source": [
        "(Train_X, Train_Y),(Val_X,Val_Y) = keras.datasets.cifar10.load_data()"
      ],
      "execution_count": 9,
      "outputs": []
    },
    {
      "cell_type": "markdown",
      "metadata": {
        "id": "N7RnhXvqnUmr",
        "colab_type": "text"
      },
      "source": [
        "##### Here, we see that we have 50000 for training and 10000 for validation and the shape of the images: 32x32 and 3 channels"
      ]
    },
    {
      "cell_type": "code",
      "metadata": {
        "id": "pa2VKF1enUmr",
        "colab_type": "code",
        "colab": {
          "base_uri": "https://localhost:8080/",
          "height": 35
        },
        "outputId": "7278d0aa-87f2-4d2f-a91b-5df52a00e2d7"
      },
      "source": [
        "Train_X.shape"
      ],
      "execution_count": 10,
      "outputs": [
        {
          "output_type": "execute_result",
          "data": {
            "text/plain": [
              "(50000, 32, 32, 3)"
            ]
          },
          "metadata": {
            "tags": []
          },
          "execution_count": 10
        }
      ]
    },
    {
      "cell_type": "code",
      "metadata": {
        "id": "2oG__S-anUmt",
        "colab_type": "code",
        "colab": {
          "base_uri": "https://localhost:8080/",
          "height": 35
        },
        "outputId": "244778cc-61b2-4783-8213-f181845dd115"
      },
      "source": [
        "Train_Y.shape"
      ],
      "execution_count": 11,
      "outputs": [
        {
          "output_type": "execute_result",
          "data": {
            "text/plain": [
              "(50000, 1)"
            ]
          },
          "metadata": {
            "tags": []
          },
          "execution_count": 11
        }
      ]
    },
    {
      "cell_type": "code",
      "metadata": {
        "id": "rHjkcWqGnUmw",
        "colab_type": "code",
        "colab": {
          "base_uri": "https://localhost:8080/",
          "height": 35
        },
        "outputId": "d5b79a82-ad8b-4565-9c86-7daeae7f4f5a"
      },
      "source": [
        "Val_X.shape"
      ],
      "execution_count": 12,
      "outputs": [
        {
          "output_type": "execute_result",
          "data": {
            "text/plain": [
              "(10000, 32, 32, 3)"
            ]
          },
          "metadata": {
            "tags": []
          },
          "execution_count": 12
        }
      ]
    },
    {
      "cell_type": "code",
      "metadata": {
        "id": "KR1qB7NNnUmz",
        "colab_type": "code",
        "colab": {
          "base_uri": "https://localhost:8080/",
          "height": 35
        },
        "outputId": "b4391d52-8ab3-4a9d-f302-bfc9152faa60"
      },
      "source": [
        "Val_Y.shape"
      ],
      "execution_count": 13,
      "outputs": [
        {
          "output_type": "execute_result",
          "data": {
            "text/plain": [
              "(10000, 1)"
            ]
          },
          "metadata": {
            "tags": []
          },
          "execution_count": 13
        }
      ]
    },
    {
      "cell_type": "code",
      "metadata": {
        "id": "YeGIeS6_nUm5",
        "colab_type": "code",
        "colab": {}
      },
      "source": [
        "## One HOT Encoding of Y\n",
        "Train_Y = keras.utils.to_categorical(Train_Y)\n",
        "Val_Y = keras.utils.to_categorical(Val_Y)"
      ],
      "execution_count": 14,
      "outputs": []
    },
    {
      "cell_type": "code",
      "metadata": {
        "id": "uIsnj2iynUm8",
        "colab_type": "code",
        "colab": {
          "base_uri": "https://localhost:8080/",
          "height": 35
        },
        "outputId": "3e6a3f6c-aae4-4b37-fe87-076f594c6cc8"
      },
      "source": [
        "Train_Y.shape"
      ],
      "execution_count": 15,
      "outputs": [
        {
          "output_type": "execute_result",
          "data": {
            "text/plain": [
              "(50000, 10)"
            ]
          },
          "metadata": {
            "tags": []
          },
          "execution_count": 15
        }
      ]
    },
    {
      "cell_type": "code",
      "metadata": {
        "id": "DJ1sYDqRnUm-",
        "colab_type": "code",
        "colab": {
          "base_uri": "https://localhost:8080/",
          "height": 35
        },
        "outputId": "03c84c3f-f366-4900-87e6-2dd6ff526b0b"
      },
      "source": [
        "Val_Y.shape"
      ],
      "execution_count": 16,
      "outputs": [
        {
          "output_type": "execute_result",
          "data": {
            "text/plain": [
              "(10000, 10)"
            ]
          },
          "metadata": {
            "tags": []
          },
          "execution_count": 16
        }
      ]
    },
    {
      "cell_type": "markdown",
      "metadata": {
        "id": "Ynmyn3TMnUnB",
        "colab_type": "text"
      },
      "source": [
        "#### Here we build a function to see the results of our trained model on the validation data"
      ]
    },
    {
      "cell_type": "markdown",
      "metadata": {
        "id": "tyATkk3UnUnB",
        "colab_type": "text"
      },
      "source": [
        "#### 1. We will make use of numpy.random.choice() to choose random instances of the validation data\n",
        "#### >>> import numpy as np\n",
        "#### >>> np.random.choice(5, 3, replace=False)\n",
        "#### array([3, 1, 2])\n",
        "https://docs.scipy.org/doc//numpy-1.10.4/reference/generated/numpy.random.choice.html\n",
        "#### 2. We will also make use of np.argmax() which returns the index of the biggest value in the np array: \n",
        "https://numpy.org/doc/stable/reference/generated/numpy.argmax.html\n",
        "#### If a value in the y[i] np array is biggest then that is the class to which that X[i] belongs to. As, we will use softmax activation in the neural network and Softmax makes the output sum up to 1 so the output can be interpreted as probabilities.\n",
        "#### 3. We will make use of pyplot.fig to view the images \n",
        "https://matplotlib.org/3.1.0/api/_as_gen/matplotlib.pyplot.figure.html\n",
        "\n",
        "https://matplotlib.org/3.2.1/api/_as_gen/matplotlib.pyplot.imshow.html\n",
        "\n",
        "https://matplotlib.org/3.2.2/api/_as_gen/matplotlib.pyplot.xticks.html\n",
        "\n",
        "https://matplotlib.org/api/_as_gen/matplotlib.pyplot.yticks.html\n",
        "\n",
        "https://e2eml.school/matplotlib_framing.html\n",
        "\n",
        "https://stackoverflow.com/questions/45585183/how-to-draw-a-frame-on-a-matplotlib-figure\n",
        "#### We will give a red border for those which were predicted incorrectly and green border for those which were predicted correctly"
      ]
    },
    {
      "cell_type": "code",
      "metadata": {
        "id": "0ZuJa6GsnUnC",
        "colab_type": "code",
        "colab": {
          "base_uri": "https://localhost:8080/",
          "height": 972
        },
        "outputId": "2a0f6375-398b-4637-9dda-c7b5b1fa6223"
      },
      "source": [
        "class_names = [\"airplane\", \"automobile\", \"bird\",\"cat\",\"deer\",\"dog\",\"frog\",\"horse\",\"ship\",\"truck\"]\n",
        "def see_results(X,Y,predictions):\n",
        "    # About 5 samples\n",
        "    random_indices = np.random.choice(range(X.shape[0]), 5, replace=False)\n",
        "    \n",
        "    X,Y,predictions = X[random_indices],Y[random_indices],predictions[random_indices]\n",
        "    \n",
        "    # plt.figure(figsize=(10,10))\n",
        "    # fig, (ax[0],ax[1],ax[2],ax[3],ax[4]) = plt.subplots()\n",
        "    # Let's plot the images and their labels\n",
        "    for i in range(5):\n",
        "        \n",
        "        # color: red/green\n",
        "        \n",
        "        col = 'green' if np.argmax(Y[i]) == np.argmax(predictions[i]) else 'red'\n",
        "            \n",
        "        plt.figure(figsize=(3,3))\n",
        "        plt.rcParams[\"axes.edgecolor\"] = col\n",
        "        plt.rcParams[\"axes.linewidth\"] = 5\n",
        "        plt.imshow(X[i])\n",
        "        \n",
        "        # Removing xticks and yticks\n",
        "        plt.xticks([])\n",
        "        plt.yticks([])\n",
        "        \n",
        "        plt.xlabel(class_names[np.argmax(predictions[i])], color=col)\n",
        "plt.show()\n",
        "\n",
        "see_results(Train_X, Train_Y, Train_Y)  "
      ],
      "execution_count": 17,
      "outputs": [
        {
          "output_type": "display_data",
          "data": {
            "image/png": "[encoded data removed]",
            "text/plain": [
              "<Figure size 216x216 with 1 Axes>"
            ]
          },
          "metadata": {
            "tags": []
          }
        },
        {
          "output_type": "display_data",
          "data": {
            "image/png": "[encoded data removed]",
            "text/plain": [
              "<Figure size 216x216 with 1 Axes>"
            ]
          },
          "metadata": {
            "tags": []
          }
        },
        {
          "output_type": "display_data",
          "data": {
            "image/png": "[encoded data removed]",
            "text/plain": [
              "<Figure size 216x216 with 1 Axes>"
            ]
          },
          "metadata": {
            "tags": []
          }
        },
        {
          "output_type": "display_data",
          "data": {
            "image/png": "[encoded data removed]",
            "text/plain": [
              "<Figure size 216x216 with 1 Axes>"
            ]
          },
          "metadata": {
            "tags": []
          }
        },
        {
          "output_type": "display_data",
          "data": {
            "image/png": "[encoded data removed]",
            "text/plain": [
              "<Figure size 216x216 with 1 Axes>"
            ]
          },
          "metadata": {
            "tags": []
          }
        }
      ]
    },
    {
      "cell_type": "markdown",
      "metadata": {
        "id": "bv4B4jiVnUnE",
        "colab_type": "text"
      },
      "source": [
        "### Building a CNN Model"
      ]
    },
    {
      "cell_type": "code",
      "metadata": {
        "id": "9YbhA6lznUnE",
        "colab_type": "code",
        "colab": {}
      },
      "source": [
        "from tensorflow.keras.layers import Conv2D, MaxPooling2D, BatchNormalization\n",
        "\n",
        "from tensorflow.keras.layers import Dropout, Flatten, Input, Dense"
      ],
      "execution_count": 18,
      "outputs": []
    },
    {
      "cell_type": "markdown",
      "metadata": {
        "id": "WCMTFIWanUnJ",
        "colab_type": "text"
      },
      "source": [
        "Conv2D: https://keras.io/api/layers/convolution_layers/convolution2d/: For Convolution\n",
        "\n",
        "MaxPooling2D: https://keras.io/api/layers/pooling_layers/max_pooling2d/: For the purpose of reducing the dimensions Height,Width of the images\n",
        "\n",
        "Flatten: https://keras.io/api/layers/reshaping_layers/flatten/: To produce a 2D layer of neurons from a 3D layer\n",
        "\n",
        "BatchNormalization: https://keras.io/api/layers/normalization_layers/batch_normalization/: We use this layer to normalize the data so as to speed up the training process\n",
        "\n",
        "Dropout: https://keras.io/api/layers/regularization_layers/dropout/: To apply regularization in order to avoid overfitting to the data (Weight Decay)\n",
        "\n",
        "Dense: https://keras.io/api/layers/core_layers/dense/: To make fully connected layers"
      ]
    },
    {
      "cell_type": "code",
      "metadata": {
        "id": "jkZrkI2TnUnJ",
        "colab_type": "code",
        "colab": {}
      },
      "source": [
        "model  = tf.keras.models.Sequential()"
      ],
      "execution_count": 19,
      "outputs": []
    },
    {
      "cell_type": "code",
      "metadata": {
        "id": "SQxWn0iKnUnL",
        "colab_type": "code",
        "colab": {}
      },
      "source": [
        "model.add(Input(shape=(32,32,3)))"
      ],
      "execution_count": 20,
      "outputs": []
    },
    {
      "cell_type": "code",
      "metadata": {
        "id": "ITLRGxvxnUnO",
        "colab_type": "code",
        "colab": {}
      },
      "source": [
        "model.add(Conv2D(32,3,activation='relu',padding='same'))\n",
        "model.add(BatchNormalization())\n",
        "model.add(Conv2D(32,3,activation='relu',padding='same'))\n",
        "model.add(MaxPooling2D(pool_size=2))\n",
        "model.add(Dropout(0.25))"
      ],
      "execution_count": 21,
      "outputs": []
    },
    {
      "cell_type": "code",
      "metadata": {
        "id": "EWs8OWHgnUnU",
        "colab_type": "code",
        "colab": {}
      },
      "source": [
        "model.add(Conv2D(64,3,activation='relu',padding='same'))\n",
        "model.add(BatchNormalization())\n",
        "model.add(Conv2D(64,3,activation='relu',padding='same'))\n",
        "model.add(MaxPooling2D(pool_size=2))\n",
        "model.add(Dropout(0.25))"
      ],
      "execution_count": 22,
      "outputs": []
    },
    {
      "cell_type": "code",
      "metadata": {
        "id": "yfs3rGoCEr5c",
        "colab_type": "code",
        "colab": {}
      },
      "source": [
        "model.add(Conv2D(64,3,activation='relu',padding='same'))\n",
        "model.add(BatchNormalization())\n",
        "model.add(Conv2D(64,3,activation='relu',padding='same'))\n",
        "model.add(MaxPooling2D(pool_size=2))\n",
        "model.add(Dropout(0.25))"
      ],
      "execution_count": 23,
      "outputs": []
    },
    {
      "cell_type": "code",
      "metadata": {
        "id": "e5M7d1lYEnkX",
        "colab_type": "code",
        "colab": {}
      },
      "source": [
        "model.add(Conv2D(128,3,activation='relu',padding='same'))\n",
        "model.add(BatchNormalization())\n",
        "model.add(Conv2D(128,3,activation='relu'))\n",
        "model.add(MaxPooling2D(pool_size=2))\n",
        "model.add(Dropout(0.25))"
      ],
      "execution_count": 24,
      "outputs": []
    },
    {
      "cell_type": "code",
      "metadata": {
        "id": "z6WsuexQnUno",
        "colab_type": "code",
        "colab": {}
      },
      "source": [
        "model.add(Flatten())"
      ],
      "execution_count": 25,
      "outputs": []
    },
    {
      "cell_type": "code",
      "metadata": {
        "id": "zHate5_c0l10",
        "colab_type": "code",
        "colab": {}
      },
      "source": [
        "model.add(Dense(128,activation='relu'))"
      ],
      "execution_count": 26,
      "outputs": []
    },
    {
      "cell_type": "code",
      "metadata": {
        "id": "JmtggbadnUnr",
        "colab_type": "code",
        "colab": {}
      },
      "source": [
        "model.add(Dense(10,activation='softmax'))"
      ],
      "execution_count": 27,
      "outputs": []
    },
    {
      "cell_type": "code",
      "metadata": {
        "id": "HXanc8KnnUnt",
        "colab_type": "code",
        "colab": {}
      },
      "source": [
        "model.compile(loss='categorical_crossentropy',optimizer='adam',metrics=['accuracy'])"
      ],
      "execution_count": 28,
      "outputs": []
    },
    {
      "cell_type": "code",
      "metadata": {
        "id": "O9gIpWIvnUnv",
        "colab_type": "code",
        "colab": {
          "base_uri": "https://localhost:8080/",
          "height": 977
        },
        "outputId": "fe121547-03cf-46a6-c187-2b16c58a376c"
      },
      "source": [
        "model.summary()"
      ],
      "execution_count": 29,
      "outputs": [
        {
          "output_type": "stream",
          "text": [
            "Model: \"sequential\"\n",
            "_________________________________________________________________\n",
            "Layer (type)                 Output Shape              Param #   \n",
            "=================================================================\n",
            "conv2d (Conv2D)              (None, 32, 32, 32)        896       \n",
            "_________________________________________________________________\n",
            "batch_normalization (BatchNo (None, 32, 32, 32)        128       \n",
            "_________________________________________________________________\n",
            "conv2d_1 (Conv2D)            (None, 32, 32, 32)        9248      \n",
            "_________________________________________________________________\n",
            "max_pooling2d (MaxPooling2D) (None, 16, 16, 32)        0         \n",
            "_________________________________________________________________\n",
            "dropout (Dropout)            (None, 16, 16, 32)        0         \n",
            "_________________________________________________________________\n",
            "conv2d_2 (Conv2D)            (None, 16, 16, 64)        18496     \n",
            "_________________________________________________________________\n",
            "batch_normalization_1 (Batch (None, 16, 16, 64)        256       \n",
            "_________________________________________________________________\n",
            "conv2d_3 (Conv2D)            (None, 16, 16, 64)        36928     \n",
            "_________________________________________________________________\n",
            "max_pooling2d_1 (MaxPooling2 (None, 8, 8, 64)          0         \n",
            "_________________________________________________________________\n",
            "dropout_1 (Dropout)          (None, 8, 8, 64)          0         \n",
            "_________________________________________________________________\n",
            "conv2d_4 (Conv2D)            (None, 8, 8, 64)          36928     \n",
            "_________________________________________________________________\n",
            "batch_normalization_2 (Batch (None, 8, 8, 64)          256       \n",
            "_________________________________________________________________\n",
            "conv2d_5 (Conv2D)            (None, 8, 8, 64)          36928     \n",
            "_________________________________________________________________\n",
            "max_pooling2d_2 (MaxPooling2 (None, 4, 4, 64)          0         \n",
            "_________________________________________________________________\n",
            "dropout_2 (Dropout)          (None, 4, 4, 64)          0         \n",
            "_________________________________________________________________\n",
            "conv2d_6 (Conv2D)            (None, 4, 4, 128)         73856     \n",
            "_________________________________________________________________\n",
            "batch_normalization_3 (Batch (None, 4, 4, 128)         512       \n",
            "_________________________________________________________________\n",
            "conv2d_7 (Conv2D)            (None, 2, 2, 128)         147584    \n",
            "_________________________________________________________________\n",
            "max_pooling2d_3 (MaxPooling2 (None, 1, 1, 128)         0         \n",
            "_________________________________________________________________\n",
            "dropout_3 (Dropout)          (None, 1, 1, 128)         0         \n",
            "_________________________________________________________________\n",
            "flatten (Flatten)            (None, 128)               0         \n",
            "_________________________________________________________________\n",
            "dense (Dense)                (None, 128)               16512     \n",
            "_________________________________________________________________\n",
            "dense_1 (Dense)              (None, 10)                1290      \n",
            "=================================================================\n",
            "Total params: 379,818\n",
            "Trainable params: 379,242\n",
            "Non-trainable params: 576\n",
            "_________________________________________________________________\n"
          ],
          "name": "stdout"
        }
      ]
    },
    {
      "cell_type": "markdown",
      "metadata": {
        "id": "t9vg32TWnUnx",
        "colab_type": "text"
      },
      "source": [
        "##### %% time: \n",
        "https://jakevdp.github.io/PythonDataScienceHandbook/01.07-timing-and-profiling.html\n",
        "#### Now we are making use of model.fit():\n",
        "https://keras.rstudio.com/reference/fit.html\n",
        "\n",
        "And that function returns a history object which contains the data collected during training process"
      ]
    },
    {
      "cell_type": "code",
      "metadata": {
        "id": "o2VWSmTanUnx",
        "colab_type": "code",
        "colab": {
          "base_uri": "https://localhost:8080/",
          "height": 764
        },
        "outputId": "732f669e-51c6-42b5-9e52-5d59fff64b54"
      },
      "source": [
        "%%time \n",
        "\n",
        "hist = model.fit(\n",
        "    Train_X/255.,Train_Y,\n",
        "    validation_data = (Val_X/255.,Val_Y),\n",
        "    epochs=20,\n",
        "    batch_size=256,\n",
        "    callbacks = [\n",
        "        tf.keras.callbacks.EarlyStopping(monitor='val_accuracy',patience=5),\n",
        "        tf.keras.callbacks.ModelCheckpoint('/content/drive/My Drive/Image Classification with CNNs using Keras/Models/models_{val_accuracy:.3f}.h5',save_best_only=True, \n",
        "                                           save_weights_only=False, monitor='val_accuracy')\n",
        "    ]\n",
        ")"
      ],
      "execution_count": 30,
      "outputs": [
        {
          "output_type": "stream",
          "text": [
            "Epoch 1/20\n",
            "196/196 [==============================] - 12s 61ms/step - loss: 1.6284 - accuracy: 0.4012 - val_loss: 3.3439 - val_accuracy: 0.1000\n",
            "Epoch 2/20\n",
            "196/196 [==============================] - 11s 56ms/step - loss: 1.1896 - accuracy: 0.5686 - val_loss: 2.6356 - val_accuracy: 0.2575\n",
            "Epoch 3/20\n",
            "196/196 [==============================] - 11s 56ms/step - loss: 1.0180 - accuracy: 0.6364 - val_loss: 1.1217 - val_accuracy: 0.6097\n",
            "Epoch 4/20\n",
            "196/196 [==============================] - 11s 56ms/step - loss: 0.9014 - accuracy: 0.6818 - val_loss: 0.9270 - val_accuracy: 0.6832\n",
            "Epoch 5/20\n",
            "196/196 [==============================] - 11s 56ms/step - loss: 0.8173 - accuracy: 0.7135 - val_loss: 0.8617 - val_accuracy: 0.6986\n",
            "Epoch 6/20\n",
            "196/196 [==============================] - 11s 57ms/step - loss: 0.7426 - accuracy: 0.7396 - val_loss: 0.7739 - val_accuracy: 0.7342\n",
            "Epoch 7/20\n",
            "196/196 [==============================] - 11s 56ms/step - loss: 0.6923 - accuracy: 0.7564 - val_loss: 0.8654 - val_accuracy: 0.6939\n",
            "Epoch 8/20\n",
            "196/196 [==============================] - 11s 56ms/step - loss: 0.6527 - accuracy: 0.7714 - val_loss: 0.6922 - val_accuracy: 0.7580\n",
            "Epoch 9/20\n",
            "196/196 [==============================] - 11s 56ms/step - loss: 0.6152 - accuracy: 0.7856 - val_loss: 0.6774 - val_accuracy: 0.7676\n",
            "Epoch 10/20\n",
            "196/196 [==============================] - 11s 56ms/step - loss: 0.5865 - accuracy: 0.7937 - val_loss: 0.5686 - val_accuracy: 0.8067\n",
            "Epoch 11/20\n",
            "196/196 [==============================] - 11s 56ms/step - loss: 0.5593 - accuracy: 0.8053 - val_loss: 0.6609 - val_accuracy: 0.7781\n",
            "Epoch 12/20\n",
            "196/196 [==============================] - 11s 58ms/step - loss: 0.5324 - accuracy: 0.8152 - val_loss: 0.5655 - val_accuracy: 0.8072\n",
            "Epoch 13/20\n",
            "196/196 [==============================] - 11s 56ms/step - loss: 0.5123 - accuracy: 0.8218 - val_loss: 0.6418 - val_accuracy: 0.7907\n",
            "Epoch 14/20\n",
            "196/196 [==============================] - 11s 55ms/step - loss: 0.4948 - accuracy: 0.8248 - val_loss: 0.6041 - val_accuracy: 0.7940\n",
            "Epoch 15/20\n",
            "196/196 [==============================] - 11s 56ms/step - loss: 0.4762 - accuracy: 0.8343 - val_loss: 0.6560 - val_accuracy: 0.7834\n",
            "Epoch 16/20\n",
            "196/196 [==============================] - 11s 55ms/step - loss: 0.4566 - accuracy: 0.8416 - val_loss: 0.6786 - val_accuracy: 0.7783\n",
            "Epoch 17/20\n",
            "196/196 [==============================] - 11s 56ms/step - loss: 0.4442 - accuracy: 0.8453 - val_loss: 0.5758 - val_accuracy: 0.8115\n",
            "Epoch 18/20\n",
            "196/196 [==============================] - 11s 57ms/step - loss: 0.4303 - accuracy: 0.8493 - val_loss: 0.5713 - val_accuracy: 0.8122\n",
            "Epoch 19/20\n",
            "196/196 [==============================] - 11s 56ms/step - loss: 0.4139 - accuracy: 0.8550 - val_loss: 0.5787 - val_accuracy: 0.8151\n",
            "Epoch 20/20\n",
            "196/196 [==============================] - 11s 57ms/step - loss: 0.4064 - accuracy: 0.8573 - val_loss: 0.5675 - val_accuracy: 0.8153\n",
            "CPU times: user 2min 12s, sys: 41 s, total: 2min 53s\n",
            "Wall time: 3min 46s\n"
          ],
          "name": "stdout"
        }
      ]
    },
    {
      "cell_type": "code",
      "metadata": {
        "id": "FH7O5-RAxxGO",
        "colab_type": "code",
        "colab": {
          "base_uri": "https://localhost:8080/",
          "height": 265
        },
        "outputId": "4d0e6ef6-c5f0-43e1-8205-53c799c0de5d"
      },
      "source": [
        "losses = hist.history['loss']\n",
        "accuracies = hist.history['accuracy']\n",
        "val_losses = hist.history['val_loss']\n",
        "val_accuracies = hist.history['val_accuracy']\n",
        "epochs = len(losses)\n",
        "plt.figure(figsize=(12,4))\n",
        "for i, metrics in enumerate(zip([losses,accuracies],[val_losses,val_accuracies],['Loss','Accuracy'])):\n",
        "  plt.subplot(1,2,i+1)\n",
        "  plt.plot(range(epochs),metrics[0],label='Training {}'.format(metrics[2]))\n",
        "  plt.plot(range(epochs),metrics[1],label='Validation {}'.format(metrics[2]))\n",
        "  plt.legend()\n",
        "plt.show()"
      ],
      "execution_count": 31,
      "outputs": [
        {
          "output_type": "display_data",
          "data": {
            "image/png": "[encoded data removed]",
            "text/plain": [
              "<Figure size 864x288 with 2 Axes>"
            ]
          },
          "metadata": {
            "tags": [],
            "needs_background": "light"
          }
        }
      ]
    },
    {
      "cell_type": "markdown",
      "metadata": {
        "id": "U25OZ3qJgDuM",
        "colab_type": "text"
      },
      "source": [
        "### Now we shall test our best model. (taken from our Models Folder)."
      ]
    },
    {
      "cell_type": "code",
      "metadata": {
        "id": "WAekeuOifWVT",
        "colab_type": "code",
        "colab": {}
      },
      "source": [
        "model = tf.keras.models.load_model('/content/drive/My Drive/Image Classification with CNNs using Keras/Models/models_0.815.h5')\n",
        "predictions = model.predict(Val_X/255.)"
      ],
      "execution_count": 32,
      "outputs": []
    },
    {
      "cell_type": "code",
      "metadata": {
        "id": "VYhFZyHHfsrW",
        "colab_type": "code",
        "colab": {
          "base_uri": "https://localhost:8080/",
          "height": 972
        },
        "outputId": "cf3f63a0-c2d7-41c3-aa5d-2fb5eec6294b"
      },
      "source": [
        "see_results(Val_X,Val_Y,predictions)"
      ],
      "execution_count": 39,
      "outputs": [
        {
          "output_type": "display_data",
          "data": {
            "image/png": "[encoded data removed]",
            "text/plain": [
              "<Figure size 216x216 with 1 Axes>"
            ]
          },
          "metadata": {
            "tags": []
          }
        },
        {
          "output_type": "display_data",
          "data": {
            "image/png": "[encoded data removed]",
            "text/plain": [
              "<Figure size 216x216 with 1 Axes>"
            ]
          },
          "metadata": {
            "tags": []
          }
        },
        {
          "output_type": "display_data",
          "data": {
            "image/png": "[encoded data removed]",
            "text/plain": [
              "<Figure size 216x216 with 1 Axes>"
            ]
          },
          "metadata": {
            "tags": []
          }
        },
        {
          "output_type": "display_data",
          "data": {
            "image/png": "[encoded data removed]",
            "text/plain": [
              "<Figure size 216x216 with 1 Axes>"
            ]
          },
          "metadata": {
            "tags": []
          }
        },
        {
          "output_type": "display_data",
          "data": {
            "image/png": "[encoded data removed]",
            "text/plain": [
              "<Figure size 216x216 with 1 Axes>"
            ]
          },
          "metadata": {
            "tags": []
          }
        }
      ]
    },
    {
      "cell_type": "code",
      "metadata": {
        "id": "udnhLWgrf4S4",
        "colab_type": "code",
        "colab": {}
      },
      "source": [
        ""
      ],
      "execution_count": null,
      "outputs": []
    }
  ]
}