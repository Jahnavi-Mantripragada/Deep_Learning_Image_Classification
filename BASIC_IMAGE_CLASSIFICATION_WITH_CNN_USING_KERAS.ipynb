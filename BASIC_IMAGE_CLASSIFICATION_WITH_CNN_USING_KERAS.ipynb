{
  "nbformat": 4,
  "nbformat_minor": 0,
  "metadata": {
    "kernelspec": {
      "display_name": "Python 3",
      "language": "python",
      "name": "python3"
    },
    "language_info": {
      "codemirror_mode": {
        "name": "ipython",
        "version": 3
      },
      "file_extension": ".py",
      "mimetype": "text/x-python",
      "name": "python",
      "nbconvert_exporter": "python",
      "pygments_lexer": "ipython3",
      "version": "3.7.6"
    },
    "colab": {
      "name": "BASIC IMAGE CLASSIFICATION WITH CNN USING KERAS.ipynb",
      "provenance": [],
      "toc_visible": true,
      "include_colab_link": true
    },
    "accelerator": "GPU"
  },
  "cells": [
    {
      "cell_type": "markdown",
      "metadata": {
        "id": "view-in-github",
        "colab_type": "text"
      },
      "source": [
        "<a href=\"https://colab.research.google.com/github/Jahnavi-Mantripragada/Deep_Learning_Image_Classification/blob/master/BASIC_IMAGE_CLASSIFICATION_WITH_CNN_USING_KERAS.ipynb\" target=\"_parent\"><img src=\"https://colab.research.google.com/assets/colab-badge.svg\" alt=\"Open In Colab\"/></a>"
      ]
    },
    {
      "cell_type": "code",
      "metadata": {
        "id": "vymAcUh9nUmP",
        "outputId": "0709a424-9557-457c-ed82-873ea72762bb",
        "colab": {
          "base_uri": "https://localhost:8080/"
        }
      },
      "source": [
        "from google.colab import drive\n",
        "drive.mount('/content/drive')"
      ],
      "execution_count": 1,
      "outputs": [
        {
          "output_type": "stream",
          "text": [
            "Drive already mounted at /content/drive; to attempt to forcibly remount, call drive.mount(\"/content/drive\", force_remount=True).\n"
          ],
          "name": "stdout"
        }
      ]
    },
    {
      "cell_type": "code",
      "metadata": {
        "id": "qj51KZ8Onb1Q"
      },
      "source": [
        "import tensorflow as tf"
      ],
      "execution_count": 2,
      "outputs": []
    },
    {
      "cell_type": "code",
      "metadata": {
        "id": "6rp1SsV3nUmU"
      },
      "source": [
        "import os"
      ],
      "execution_count": 3,
      "outputs": []
    },
    {
      "cell_type": "code",
      "metadata": {
        "id": "qSrqzAxtnUmX"
      },
      "source": [
        "import numpy as np"
      ],
      "execution_count": 4,
      "outputs": []
    },
    {
      "cell_type": "code",
      "metadata": {
        "id": "twfwjwd9nUma"
      },
      "source": [
        "from matplotlib import pyplot as plt\n",
        "%matplotlib inline"
      ],
      "execution_count": 5,
      "outputs": []
    },
    {
      "cell_type": "code",
      "metadata": {
        "id": "e8Rit2RPnUmc"
      },
      "source": [
        "if not os.path.isdir(\"/content/drive/My Drive/Image Classification with CNNs using Keras/Models\"):\n",
        "    os.mkdir('/content/drive/My Drive/Image Classification with CNNs using Keras/Models')"
      ],
      "execution_count": 6,
      "outputs": []
    },
    {
      "cell_type": "code",
      "metadata": {
        "id": "0vVkS4y7nUmf",
        "outputId": "5cf79ec6-87fe-4990-9afe-49c9554bbdc4",
        "colab": {
          "base_uri": "https://localhost:8080/",
          "height": 36
        }
      },
      "source": [
        "tf.__version__"
      ],
      "execution_count": 7,
      "outputs": [
        {
          "output_type": "execute_result",
          "data": {
            "application/vnd.google.colaboratory.intrinsic+json": {
              "type": "string"
            },
            "text/plain": [
              "'2.3.0'"
            ]
          },
          "metadata": {
            "tags": []
          },
          "execution_count": 7
        }
      ]
    },
    {
      "cell_type": "code",
      "metadata": {
        "id": "Y3M7_Uy6nUmj"
      },
      "source": [
        "from tensorflow import keras"
      ],
      "execution_count": 8,
      "outputs": []
    },
    {
      "cell_type": "markdown",
      "metadata": {
        "id": "zUHHZ91_nUmn"
      },
      "source": [
        "### We will use CIFAR10 Dataset: \n",
        "https://keras.io/api/datasets/cifar10/\n",
        "\n",
        "https://www.cs.toronto.edu/~kriz/cifar.html"
      ]
    },
    {
      "cell_type": "code",
      "metadata": {
        "id": "TE_02gYTnUmo"
      },
      "source": [
        "(Train_X, Train_Y),(Val_X,Val_Y) = keras.datasets.cifar10.load_data()"
      ],
      "execution_count": 9,
      "outputs": []
    },
    {
      "cell_type": "markdown",
      "metadata": {
        "id": "N7RnhXvqnUmr"
      },
      "source": [
        "##### Here, we see that we have 50000 for training and 10000 for validation and the shape of the images: 32x32 and 3 channels"
      ]
    },
    {
      "cell_type": "code",
      "metadata": {
        "id": "pa2VKF1enUmr",
        "outputId": "4bfc0050-b0ee-43ac-abf8-ef98cece8de6",
        "colab": {
          "base_uri": "https://localhost:8080/"
        }
      },
      "source": [
        "Train_X.shape"
      ],
      "execution_count": 10,
      "outputs": [
        {
          "output_type": "execute_result",
          "data": {
            "text/plain": [
              "(50000, 32, 32, 3)"
            ]
          },
          "metadata": {
            "tags": []
          },
          "execution_count": 10
        }
      ]
    },
    {
      "cell_type": "code",
      "metadata": {
        "id": "2oG__S-anUmt",
        "outputId": "377b341d-fe9f-4d38-f876-d8705fbc2153",
        "colab": {
          "base_uri": "https://localhost:8080/"
        }
      },
      "source": [
        "Train_Y.shape"
      ],
      "execution_count": 11,
      "outputs": [
        {
          "output_type": "execute_result",
          "data": {
            "text/plain": [
              "(50000, 1)"
            ]
          },
          "metadata": {
            "tags": []
          },
          "execution_count": 11
        }
      ]
    },
    {
      "cell_type": "code",
      "metadata": {
        "id": "rHjkcWqGnUmw",
        "outputId": "76989aad-2585-43af-93e0-eed3e0b32414",
        "colab": {
          "base_uri": "https://localhost:8080/"
        }
      },
      "source": [
        "Val_X.shape"
      ],
      "execution_count": 12,
      "outputs": [
        {
          "output_type": "execute_result",
          "data": {
            "text/plain": [
              "(10000, 32, 32, 3)"
            ]
          },
          "metadata": {
            "tags": []
          },
          "execution_count": 12
        }
      ]
    },
    {
      "cell_type": "code",
      "metadata": {
        "id": "KR1qB7NNnUmz",
        "outputId": "a749170e-e9bd-4eb8-98d5-401e22997af8",
        "colab": {
          "base_uri": "https://localhost:8080/"
        }
      },
      "source": [
        "Val_Y.shape"
      ],
      "execution_count": 13,
      "outputs": [
        {
          "output_type": "execute_result",
          "data": {
            "text/plain": [
              "(10000, 1)"
            ]
          },
          "metadata": {
            "tags": []
          },
          "execution_count": 13
        }
      ]
    },
    {
      "cell_type": "code",
      "metadata": {
        "id": "YeGIeS6_nUm5"
      },
      "source": [
        "## One HOT Encoding of Y\n",
        "Train_Y = keras.utils.to_categorical(Train_Y)\n",
        "test_Y = Val_Y\n",
        "Val_Y = keras.utils.to_categorical(Val_Y)"
      ],
      "execution_count": 14,
      "outputs": []
    },
    {
      "cell_type": "code",
      "metadata": {
        "id": "uIsnj2iynUm8",
        "outputId": "5744001a-6a76-4e5f-dd9f-bf3b50c8156c",
        "colab": {
          "base_uri": "https://localhost:8080/"
        }
      },
      "source": [
        "Train_Y.shape"
      ],
      "execution_count": 15,
      "outputs": [
        {
          "output_type": "execute_result",
          "data": {
            "text/plain": [
              "(50000, 10)"
            ]
          },
          "metadata": {
            "tags": []
          },
          "execution_count": 15
        }
      ]
    },
    {
      "cell_type": "code",
      "metadata": {
        "id": "DJ1sYDqRnUm-",
        "outputId": "9789a5c8-a1ef-43fb-be49-6b67e4aa69bc",
        "colab": {
          "base_uri": "https://localhost:8080/"
        }
      },
      "source": [
        "Val_Y.shape"
      ],
      "execution_count": 16,
      "outputs": [
        {
          "output_type": "execute_result",
          "data": {
            "text/plain": [
              "(10000, 10)"
            ]
          },
          "metadata": {
            "tags": []
          },
          "execution_count": 16
        }
      ]
    },
    {
      "cell_type": "markdown",
      "metadata": {
        "id": "Ynmyn3TMnUnB"
      },
      "source": [
        "#### Here we build a function to see the results of our trained model on the validation data"
      ]
    },
    {
      "cell_type": "markdown",
      "metadata": {
        "id": "tyATkk3UnUnB"
      },
      "source": [
        "#### 1. We will make use of numpy.random.choice() to choose random instances of the validation data\n",
        "#### >>> import numpy as np\n",
        "#### >>> np.random.choice(5, 3, replace=False)\n",
        "#### array([3, 1, 2])\n",
        "https://docs.scipy.org/doc//numpy-1.10.4/reference/generated/numpy.random.choice.html\n",
        "#### 2. We will also make use of np.argmax() which returns the index of the biggest value in the np array: \n",
        "https://numpy.org/doc/stable/reference/generated/numpy.argmax.html\n",
        "#### If a value in the y[i] np array is biggest then that is the class to which that X[i] belongs to. As, we will use softmax activation in the neural network and Softmax makes the output sum up to 1 so the output can be interpreted as probabilities.\n",
        "#### 3. We will make use of pyplot.fig to view the images \n",
        "https://matplotlib.org/3.1.0/api/_as_gen/matplotlib.pyplot.figure.html\n",
        "\n",
        "https://matplotlib.org/3.2.1/api/_as_gen/matplotlib.pyplot.imshow.html\n",
        "\n",
        "https://matplotlib.org/3.2.2/api/_as_gen/matplotlib.pyplot.xticks.html\n",
        "\n",
        "https://matplotlib.org/api/_as_gen/matplotlib.pyplot.yticks.html\n",
        "\n",
        "https://e2eml.school/matplotlib_framing.html\n",
        "\n",
        "https://stackoverflow.com/questions/45585183/how-to-draw-a-frame-on-a-matplotlib-figure\n",
        "#### We will give a red border for those which were predicted incorrectly and green border for those which were predicted correctly"
      ]
    },
    {
      "cell_type": "code",
      "metadata": {
        "id": "0ZuJa6GsnUnC",
        "outputId": "fe7953ab-2676-4d04-c9db-1518bfef788a",
        "colab": {
          "base_uri": "https://localhost:8080/",
          "height": 972
        }
      },
      "source": [
        "class_names = [\"airplane\", \"automobile\", \"bird\",\"cat\",\"deer\",\"dog\",\"frog\",\"horse\",\"ship\",\"truck\"]\n",
        "def see_results(X,Y,predictions):\n",
        "    # About 5 samples\n",
        "    random_indices = np.random.choice(range(X.shape[0]), 5, replace=False)\n",
        "    \n",
        "    X,Y,predictions = X[random_indices],Y[random_indices],predictions[random_indices]\n",
        "    \n",
        "    # plt.figure(figsize=(10,10))\n",
        "    # fig, (ax[0],ax[1],ax[2],ax[3],ax[4]) = plt.subplots()\n",
        "    # Let's plot the images and their labels\n",
        "    for i in range(5):\n",
        "        \n",
        "        # color: red/green\n",
        "        \n",
        "        col = 'green' if np.argmax(Y[i]) == np.argmax(predictions[i]) else 'red'\n",
        "            \n",
        "        plt.figure(figsize=(3,3))\n",
        "        plt.rcParams[\"axes.edgecolor\"] = col\n",
        "        plt.rcParams[\"axes.linewidth\"] = 5\n",
        "        plt.imshow(X[i])\n",
        "        \n",
        "        # Removing xticks and yticks\n",
        "        plt.xticks([])\n",
        "        plt.yticks([])\n",
        "        \n",
        "        plt.xlabel(class_names[np.argmax(predictions[i])], color=col)\n",
        "plt.show()\n",
        "\n",
        "see_results(Train_X, Train_Y, Train_Y)  "
      ],
      "execution_count": 17,
      "outputs": [
        {
          "output_type": "display_data",
          "data": {
            "image/png": "[encoded data removed]",
            "text/plain": [
              "<Figure size 216x216 with 1 Axes>"
            ]
          },
          "metadata": {
            "tags": []
          }
        },
        {
          "output_type": "display_data",
          "data": {
            "image/png": "[encoded data removed]",
            "text/plain": [
              "<Figure size 216x216 with 1 Axes>"
            ]
          },
          "metadata": {
            "tags": []
          }
        },
        {
          "output_type": "display_data",
          "data": {
            "image/png": "[encoded data removed]",
            "text/plain": [
              "<Figure size 216x216 with 1 Axes>"
            ]
          },
          "metadata": {
            "tags": []
          }
        },
        {
          "output_type": "display_data",
          "data": {
            "image/png": "[encoded data removed]",
            "text/plain": [
              "<Figure size 216x216 with 1 Axes>"
            ]
          },
          "metadata": {
            "tags": []
          }
        },
        {
          "output_type": "display_data",
          "data": {
            "image/png": "[encoded data removed]",
            "text/plain": [
              "<Figure size 216x216 with 1 Axes>"
            ]
          },
          "metadata": {
            "tags": []
          }
        }
      ]
    },
    {
      "cell_type": "markdown",
      "metadata": {
        "id": "bv4B4jiVnUnE"
      },
      "source": [
        "### Building a CNN Model"
      ]
    },
    {
      "cell_type": "code",
      "metadata": {
        "id": "9YbhA6lznUnE"
      },
      "source": [
        "from tensorflow.keras.layers import Conv2D, MaxPooling2D, BatchNormalization\n",
        "\n",
        "from tensorflow.keras.layers import Dropout, Flatten, Input, Dense"
      ],
      "execution_count": 18,
      "outputs": []
    },
    {
      "cell_type": "markdown",
      "metadata": {
        "id": "WCMTFIWanUnJ"
      },
      "source": [
        "Conv2D: https://keras.io/api/layers/convolution_layers/convolution2d/: For Convolution\n",
        "\n",
        "MaxPooling2D: https://keras.io/api/layers/pooling_layers/max_pooling2d/: For the purpose of reducing the dimensions Height,Width of the images\n",
        "\n",
        "Flatten: https://keras.io/api/layers/reshaping_layers/flatten/: To produce a 2D layer of neurons from a 3D layer\n",
        "\n",
        "BatchNormalization: https://keras.io/api/layers/normalization_layers/batch_normalization/: We use this layer to normalize the data so as to speed up the training process\n",
        "\n",
        "Dropout: https://keras.io/api/layers/regularization_layers/dropout/: To apply regularization in order to avoid overfitting to the data (Weight Decay)\n",
        "\n",
        "Dense: https://keras.io/api/layers/core_layers/dense/: To make fully connected layers"
      ]
    },
    {
      "cell_type": "code",
      "metadata": {
        "id": "jkZrkI2TnUnJ"
      },
      "source": [
        "model  = tf.keras.models.Sequential()"
      ],
      "execution_count": 19,
      "outputs": []
    },
    {
      "cell_type": "code",
      "metadata": {
        "id": "SQxWn0iKnUnL"
      },
      "source": [
        "model.add(Input(shape=(32,32,3)))"
      ],
      "execution_count": 20,
      "outputs": []
    },
    {
      "cell_type": "code",
      "metadata": {
        "id": "ITLRGxvxnUnO"
      },
      "source": [
        "model.add(Conv2D(32,3,activation='relu',padding='same'))\n",
        "model.add(BatchNormalization())\n",
        "model.add(Conv2D(32,3,activation='relu',padding='same'))\n",
        "model.add(MaxPooling2D(pool_size=2))\n",
        "model.add(Dropout(0.25))"
      ],
      "execution_count": 21,
      "outputs": []
    },
    {
      "cell_type": "code",
      "metadata": {
        "id": "EWs8OWHgnUnU"
      },
      "source": [
        "model.add(Conv2D(64,3,activation='relu',padding='same'))\n",
        "model.add(BatchNormalization())\n",
        "model.add(Conv2D(64,3,activation='relu',padding='same'))\n",
        "model.add(MaxPooling2D(pool_size=2))\n",
        "model.add(Dropout(0.25))"
      ],
      "execution_count": 22,
      "outputs": []
    },
    {
      "cell_type": "code",
      "metadata": {
        "id": "yfs3rGoCEr5c"
      },
      "source": [
        "model.add(Conv2D(64,3,activation='relu',padding='same'))\n",
        "model.add(BatchNormalization())\n",
        "model.add(Conv2D(64,3,activation='relu',padding='same'))\n",
        "model.add(MaxPooling2D(pool_size=2))\n",
        "model.add(Dropout(0.25))"
      ],
      "execution_count": 23,
      "outputs": []
    },
    {
      "cell_type": "code",
      "metadata": {
        "id": "e5M7d1lYEnkX"
      },
      "source": [
        "model.add(Conv2D(128,3,activation='relu',padding='same'))\n",
        "model.add(BatchNormalization())\n",
        "model.add(Conv2D(128,3,activation='relu'))\n",
        "model.add(MaxPooling2D(pool_size=2))\n",
        "model.add(Dropout(0.25))"
      ],
      "execution_count": 24,
      "outputs": []
    },
    {
      "cell_type": "code",
      "metadata": {
        "id": "z6WsuexQnUno"
      },
      "source": [
        "model.add(Flatten())"
      ],
      "execution_count": 25,
      "outputs": []
    },
    {
      "cell_type": "code",
      "metadata": {
        "id": "zHate5_c0l10"
      },
      "source": [
        "model.add(Dense(128,activation='relu'))"
      ],
      "execution_count": 26,
      "outputs": []
    },
    {
      "cell_type": "code",
      "metadata": {
        "id": "JmtggbadnUnr"
      },
      "source": [
        "model.add(Dense(10,activation='softmax'))"
      ],
      "execution_count": 27,
      "outputs": []
    },
    {
      "cell_type": "code",
      "metadata": {
        "id": "HXanc8KnnUnt"
      },
      "source": [
        "model.compile(loss='categorical_crossentropy',optimizer='adam',metrics=['accuracy'])"
      ],
      "execution_count": 28,
      "outputs": []
    },
    {
      "cell_type": "code",
      "metadata": {
        "id": "O9gIpWIvnUnv",
        "outputId": "18bf3679-3282-480a-9088-0716067102f2",
        "colab": {
          "base_uri": "https://localhost:8080/"
        }
      },
      "source": [
        "model.summary()"
      ],
      "execution_count": 29,
      "outputs": [
        {
          "output_type": "stream",
          "text": [
            "Model: \"sequential\"\n",
            "_________________________________________________________________\n",
            "Layer (type)                 Output Shape              Param #   \n",
            "=================================================================\n",
            "conv2d (Conv2D)              (None, 32, 32, 32)        896       \n",
            "_________________________________________________________________\n",
            "batch_normalization (BatchNo (None, 32, 32, 32)        128       \n",
            "_________________________________________________________________\n",
            "conv2d_1 (Conv2D)            (None, 32, 32, 32)        9248      \n",
            "_________________________________________________________________\n",
            "max_pooling2d (MaxPooling2D) (None, 16, 16, 32)        0         \n",
            "_________________________________________________________________\n",
            "dropout (Dropout)            (None, 16, 16, 32)        0         \n",
            "_________________________________________________________________\n",
            "conv2d_2 (Conv2D)            (None, 16, 16, 64)        18496     \n",
            "_________________________________________________________________\n",
            "batch_normalization_1 (Batch (None, 16, 16, 64)        256       \n",
            "_________________________________________________________________\n",
            "conv2d_3 (Conv2D)            (None, 16, 16, 64)        36928     \n",
            "_________________________________________________________________\n",
            "max_pooling2d_1 (MaxPooling2 (None, 8, 8, 64)          0         \n",
            "_________________________________________________________________\n",
            "dropout_1 (Dropout)          (None, 8, 8, 64)          0         \n",
            "_________________________________________________________________\n",
            "conv2d_4 (Conv2D)            (None, 8, 8, 64)          36928     \n",
            "_________________________________________________________________\n",
            "batch_normalization_2 (Batch (None, 8, 8, 64)          256       \n",
            "_________________________________________________________________\n",
            "conv2d_5 (Conv2D)            (None, 8, 8, 64)          36928     \n",
            "_________________________________________________________________\n",
            "max_pooling2d_2 (MaxPooling2 (None, 4, 4, 64)          0         \n",
            "_________________________________________________________________\n",
            "dropout_2 (Dropout)          (None, 4, 4, 64)          0         \n",
            "_________________________________________________________________\n",
            "conv2d_6 (Conv2D)            (None, 4, 4, 128)         73856     \n",
            "_________________________________________________________________\n",
            "batch_normalization_3 (Batch (None, 4, 4, 128)         512       \n",
            "_________________________________________________________________\n",
            "conv2d_7 (Conv2D)            (None, 2, 2, 128)         147584    \n",
            "_________________________________________________________________\n",
            "max_pooling2d_3 (MaxPooling2 (None, 1, 1, 128)         0         \n",
            "_________________________________________________________________\n",
            "dropout_3 (Dropout)          (None, 1, 1, 128)         0         \n",
            "_________________________________________________________________\n",
            "flatten (Flatten)            (None, 128)               0         \n",
            "_________________________________________________________________\n",
            "dense (Dense)                (None, 128)               16512     \n",
            "_________________________________________________________________\n",
            "dense_1 (Dense)              (None, 10)                1290      \n",
            "=================================================================\n",
            "Total params: 379,818\n",
            "Trainable params: 379,242\n",
            "Non-trainable params: 576\n",
            "_________________________________________________________________\n"
          ],
          "name": "stdout"
        }
      ]
    },
    {
      "cell_type": "markdown",
      "metadata": {
        "id": "t9vg32TWnUnx"
      },
      "source": [
        "##### %% time: \n",
        "https://jakevdp.github.io/PythonDataScienceHandbook/01.07-timing-and-profiling.html\n",
        "#### Now we are making use of model.fit():\n",
        "https://keras.rstudio.com/reference/fit.html\n",
        "\n",
        "And that function returns a history object which contains the data collected during training process"
      ]
    },
    {
      "cell_type": "code",
      "metadata": {
        "id": "o2VWSmTanUnx",
        "outputId": "dacd78b7-f9ac-40c5-9571-587c46e619ff",
        "colab": {
          "base_uri": "https://localhost:8080/"
        }
      },
      "source": [
        "%%time \n",
        "\n",
        "hist = model.fit(\n",
        "    Train_X/255.,Train_Y,\n",
        "    validation_data = (Val_X/255.,Val_Y),\n",
        "    epochs=20,\n",
        "    batch_size=256,\n",
        "    callbacks = [\n",
        "        #tf.keras.callbacks.EarlyStopping(monitor='val_accuracy',patience=5),\n",
        "        tf.keras.callbacks.ModelCheckpoint('/content/drive/My Drive/Image Classification with CNNs using Keras/Models/models_{val_accuracy:.3f}.h5',save_best_only=True, \n",
        "                                           save_weights_only=False, monitor='val_accuracy')\n",
        "    ]\n",
        ")"
      ],
      "execution_count": 30,
      "outputs": [
        {
          "output_type": "stream",
          "text": [
            "Epoch 1/20\n",
            "196/196 [==============================] - 5s 27ms/step - loss: 1.6393 - accuracy: 0.3937 - val_loss: 3.2158 - val_accuracy: 0.1418\n",
            "Epoch 2/20\n",
            "196/196 [==============================] - 5s 25ms/step - loss: 1.2036 - accuracy: 0.5628 - val_loss: 2.6825 - val_accuracy: 0.2199\n",
            "Epoch 3/20\n",
            "196/196 [==============================] - 5s 25ms/step - loss: 1.0217 - accuracy: 0.6323 - val_loss: 1.3223 - val_accuracy: 0.5516\n",
            "Epoch 4/20\n",
            "196/196 [==============================] - 5s 25ms/step - loss: 0.8963 - accuracy: 0.6815 - val_loss: 1.0772 - val_accuracy: 0.6410\n",
            "Epoch 5/20\n",
            "196/196 [==============================] - 5s 25ms/step - loss: 0.8152 - accuracy: 0.7116 - val_loss: 0.9454 - val_accuracy: 0.6713\n",
            "Epoch 6/20\n",
            "196/196 [==============================] - 5s 26ms/step - loss: 0.7473 - accuracy: 0.7355 - val_loss: 0.7423 - val_accuracy: 0.7428\n",
            "Epoch 7/20\n",
            "196/196 [==============================] - 5s 25ms/step - loss: 0.6898 - accuracy: 0.7608 - val_loss: 0.7181 - val_accuracy: 0.7492\n",
            "Epoch 8/20\n",
            "196/196 [==============================] - 5s 25ms/step - loss: 0.6511 - accuracy: 0.7751 - val_loss: 0.6896 - val_accuracy: 0.7609\n",
            "Epoch 9/20\n",
            "196/196 [==============================] - 5s 24ms/step - loss: 0.6105 - accuracy: 0.7854 - val_loss: 0.7581 - val_accuracy: 0.7383\n",
            "Epoch 10/20\n",
            "196/196 [==============================] - 5s 26ms/step - loss: 0.5772 - accuracy: 0.7991 - val_loss: 0.6095 - val_accuracy: 0.7917\n",
            "Epoch 11/20\n",
            "196/196 [==============================] - 5s 25ms/step - loss: 0.5569 - accuracy: 0.8051 - val_loss: 0.5985 - val_accuracy: 0.7944\n",
            "Epoch 12/20\n",
            "196/196 [==============================] - 5s 24ms/step - loss: 0.5339 - accuracy: 0.8128 - val_loss: 0.6290 - val_accuracy: 0.7871\n",
            "Epoch 13/20\n",
            "196/196 [==============================] - 5s 24ms/step - loss: 0.5060 - accuracy: 0.8238 - val_loss: 0.6636 - val_accuracy: 0.7826\n",
            "Epoch 14/20\n",
            "196/196 [==============================] - 5s 24ms/step - loss: 0.4892 - accuracy: 0.8293 - val_loss: 0.6143 - val_accuracy: 0.7941\n",
            "Epoch 15/20\n",
            "196/196 [==============================] - 5s 24ms/step - loss: 0.4683 - accuracy: 0.8378 - val_loss: 0.6425 - val_accuracy: 0.7821\n",
            "Epoch 16/20\n",
            "196/196 [==============================] - 5s 25ms/step - loss: 0.4570 - accuracy: 0.8406 - val_loss: 0.5817 - val_accuracy: 0.8129\n",
            "Epoch 17/20\n",
            "196/196 [==============================] - 5s 24ms/step - loss: 0.4345 - accuracy: 0.8483 - val_loss: 0.5779 - val_accuracy: 0.8121\n",
            "Epoch 18/20\n",
            "196/196 [==============================] - 5s 26ms/step - loss: 0.4225 - accuracy: 0.8512 - val_loss: 0.5163 - val_accuracy: 0.8247\n",
            "Epoch 19/20\n",
            "196/196 [==============================] - 5s 24ms/step - loss: 0.4114 - accuracy: 0.8571 - val_loss: 0.5461 - val_accuracy: 0.8228\n",
            "Epoch 20/20\n",
            "196/196 [==============================] - 5s 24ms/step - loss: 0.3982 - accuracy: 0.8612 - val_loss: 0.6365 - val_accuracy: 0.7961\n",
            "CPU times: user 1min 4s, sys: 23.3 s, total: 1min 28s\n",
            "Wall time: 1min 42s\n"
          ],
          "name": "stdout"
        }
      ]
    },
    {
      "cell_type": "code",
      "metadata": {
        "id": "FH7O5-RAxxGO",
        "outputId": "797d7e5f-3767-47a5-dd72-a35f3ad8d8d2",
        "colab": {
          "base_uri": "https://localhost:8080/",
          "height": 265
        }
      },
      "source": [
        "losses = hist.history['loss']\n",
        "accuracies = hist.history['accuracy']\n",
        "val_losses = hist.history['val_loss']\n",
        "val_accuracies = hist.history['val_accuracy']\n",
        "epochs = len(losses)\n",
        "plt.figure(figsize=(12,4))\n",
        "for i, metrics in enumerate(zip([losses,accuracies],[val_losses,val_accuracies],['Loss','Accuracy'])):\n",
        "  plt.subplot(1,2,i+1)\n",
        "  plt.plot(range(epochs),metrics[0],label='Training {}'.format(metrics[2]))\n",
        "  plt.plot(range(epochs),metrics[1],label='Validation {}'.format(metrics[2]))\n",
        "  plt.legend()\n",
        "plt.show()"
      ],
      "execution_count": 31,
      "outputs": [
        {
          "output_type": "display_data",
          "data": {
            "image/png": "[encoded data removed]",
            "text/plain": [
              "<Figure size 864x288 with 2 Axes>"
            ]
          },
          "metadata": {
            "tags": [],
            "needs_background": "light"
          }
        }
      ]
    },
    {
      "cell_type": "markdown",
      "metadata": {
        "id": "U25OZ3qJgDuM"
      },
      "source": [
        "### Now we shall test our best model. (taken from our Models Folder)."
      ]
    },
    {
      "cell_type": "code",
      "metadata": {
        "id": "WAekeuOifWVT"
      },
      "source": [
        "model = tf.keras.models.load_model('/content/drive/My Drive/Image Classification with CNNs using Keras/Models/models_0.859.h5')\n",
        "predictions = model.predict(Val_X/255.)"
      ],
      "execution_count": 32,
      "outputs": []
    },
    {
      "cell_type": "code",
      "metadata": {
        "id": "VYhFZyHHfsrW",
        "outputId": "9b5d5ab0-fb94-4373-805e-fe8090782220",
        "colab": {
          "base_uri": "https://localhost:8080/",
          "height": 972
        }
      },
      "source": [
        "see_results(Val_X,Val_Y,predictions)"
      ],
      "execution_count": 33,
      "outputs": [
        {
          "output_type": "display_data",
          "data": {
            "image/png": "[encoded data removed]",
            "text/plain": [
              "<Figure size 216x216 with 1 Axes>"
            ]
          },
          "metadata": {
            "tags": []
          }
        },
        {
          "output_type": "display_data",
          "data": {
            "image/png": "[encoded data removed]",
            "text/plain": [
              "<Figure size 216x216 with 1 Axes>"
            ]
          },
          "metadata": {
            "tags": []
          }
        },
        {
          "output_type": "display_data",
          "data": {
            "image/png": "[encoded data removed]",
            "text/plain": [
              "<Figure size 216x216 with 1 Axes>"
            ]
          },
          "metadata": {
            "tags": []
          }
        },
        {
          "output_type": "display_data",
          "data": {
            "image/png": "[encoded data removed]",
            "text/plain": [
              "<Figure size 216x216 with 1 Axes>"
            ]
          },
          "metadata": {
            "tags": []
          }
        },
        {
          "output_type": "display_data",
          "data": {
            "image/png": "[encoded data removed]",
            "text/plain": [
              "<Figure size 216x216 with 1 Axes>"
            ]
          },
          "metadata": {
            "tags": []
          }
        }
      ]
    },
    {
      "cell_type": "code",
      "metadata": {
        "id": "KGOKvd7gkskQ"
      },
      "source": [
        "from sklearn.metrics import confusion_matrix\n",
        "predictions = np.argmax(predictions,axis=1)\n",
        "Actual = []\n",
        "Predictions = []\n",
        "for i in predictions:\n",
        "  Predictions.append(class_names[i])\n",
        "for j in test_Y:\n",
        "  Actual.append(class_names[j[0]])\n",
        "#print(Predictions,Actual)\n",
        "#print([l not in  for l in class_names])\n",
        "cm = confusion_matrix(Actual,Predictions, labels=class_names)"
      ],
      "execution_count": 35,
      "outputs": []
    },
    {
      "cell_type": "code",
      "metadata": {
        "id": "AqpKrj7fr8D3",
        "outputId": "6e8e8f68-0d7f-45fa-dc76-e5efe7894770",
        "colab": {
          "base_uri": "https://localhost:8080/"
        }
      },
      "source": [
        "#plot_confusion_matrix(cm,class_names)\n",
        "print(cm)"
      ],
      "execution_count": 36,
      "outputs": [
        {
          "output_type": "stream",
          "text": [
            "[[865  10  27  11  13   1   8  13  22  30]\n",
            " [  6 926   0   3   1   2   4   0   7  51]\n",
            " [ 37   0 777  41  53  32  32  20   5   3]\n",
            " [ 14   3  37 759  38  80  42  18   5   4]\n",
            " [  7   2  31  31 859  23  17  27   1   2]\n",
            " [  5   3  20 141  24 763  10  28   6   0]\n",
            " [  5   0  23  38  14  10 900   4   4   2]\n",
            " [  6   0   9  30  24  13   4 910   2   2]\n",
            " [ 42  15   6   7   5   2   2   2 904  15]\n",
            " [ 11  31   4   4   0   2   3   5  14 926]]\n"
          ],
          "name": "stdout"
        }
      ]
    },
    {
      "cell_type": "code",
      "metadata": {
        "id": "XvQ5PQWGxbx_",
        "outputId": "cf638a28-d947-4a77-aee7-e8959782b26c",
        "colab": {
          "base_uri": "https://localhost:8080/",
          "height": 467
        }
      },
      "source": [
        "\n",
        "import numpy as np\n",
        "\n",
        "# https://www.kaggle.com/grfiv4/plot-a-confusion-matrix\n",
        "def plot_confusion_matrix(cm,\n",
        "                          target_names,\n",
        "                          title='Confusion matrix',\n",
        "                          cmap=None,\n",
        "                          normalize=True):\n",
        "    import matplotlib.pyplot as plt\n",
        "    import numpy as np\n",
        "    import itertools\n",
        "\n",
        "    accuracy = np.trace(cm) / float(np.sum(cm))\n",
        "    misclass = 1 - accuracy\n",
        "\n",
        "    if cmap is None:\n",
        "        cmap = plt.get_cmap('Blues')\n",
        "\n",
        "    plt.figure(figsize=(8, 6))\n",
        "    plt.imshow(cm, interpolation='nearest', cmap=cmap)\n",
        "    plt.title(title)\n",
        "    plt.colorbar()\n",
        "\n",
        "    if target_names is not None:\n",
        "        tick_marks = np.arange(len(target_names))\n",
        "        plt.xticks(tick_marks, target_names, rotation=45)\n",
        "        plt.yticks(tick_marks, target_names)\n",
        "\n",
        "    if normalize:\n",
        "        cm = cm.astype('float') / cm.sum(axis=1)[:, np.newaxis]\n",
        "\n",
        "\n",
        "    thresh = cm.max() / 1.5 if normalize else cm.max() / 2\n",
        "    for i, j in itertools.product(range(cm.shape[0]), range(cm.shape[1])):\n",
        "        if normalize:\n",
        "            plt.text(j, i, \"{:0.4f}\".format(cm[i, j]),\n",
        "                     horizontalalignment=\"center\",\n",
        "                     color=\"white\" if cm[i, j] > thresh else \"black\")\n",
        "        else:\n",
        "            plt.text(j, i, \"{:,}\".format(cm[i, j]),\n",
        "                     horizontalalignment=\"center\",\n",
        "                     color=\"white\" if cm[i, j] > thresh else \"black\")\n",
        "\n",
        "\n",
        "    plt.tight_layout()\n",
        "    plt.ylabel('True label')\n",
        "    plt.xlabel('Predicted label\\naccuracy={:0.4f}; misclass={:0.4f}'.format(accuracy, misclass))\n",
        "    plt.show()\n",
        "plt.rcParams[\"axes.edgecolor\"] = 'blue'\n",
        "plot_confusion_matrix(cm,class_names,normalize=False)"
      ],
      "execution_count": 37,
      "outputs": [
        {
          "output_type": "display_data",
          "data": {
            "image/png": "[encoded data removed]",
            "text/plain": [
              "<Figure size 576x432 with 2 Axes>"
            ]
          },
          "metadata": {
            "tags": [],
            "needs_background": "light"
          }
        }
      ]
    }
  ]
}